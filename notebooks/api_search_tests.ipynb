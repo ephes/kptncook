{
 "cells": [
  {
   "cell_type": "code",
   "execution_count": 1,
   "id": "992c11ff-248d-4dbf-9c7f-19eee4be5e13",
   "metadata": {},
   "outputs": [],
   "source": [
    "from kptncook.api import KptnCookClient"
   ]
  },
  {
   "cell_type": "code",
   "execution_count": 2,
   "id": "11864835-ae8d-4382-9a30-3c3a8fda4e98",
   "metadata": {},
   "outputs": [],
   "source": [
    "from kptncook import Settings\n",
    "\n",
    "settings = Settings()\n",
    "client = KptnCookClient(base_url=settings.kptncook_api_url, api_key=settings.kptncook_api_key,\n",
    "                          access_token=settings.kptncook_access_token)"
   ]
  },
  {
   "cell_type": "code",
   "execution_count": 16,
   "id": "006f60c0-107a-4110-8481-ffe96dc292f8",
   "metadata": {},
   "outputs": [],
   "source": [
    "payload = [\n",
    "    {\n",
    "        \"identifier\": \"5aa2cbb028000052091b5c6c\",\n",
    "    }\n",
    "]\n",
    "payload = [\n",
    "    {\n",
    "        \"uid\": \"*\",\n",
    "    }\n",
    "]\n",
    "response = client.post(f\"/recipes/search?kptnkey={client.api_key}\", json=payload)\n",
    "response.raise_for_status()"
   ]
  },
  {
   "cell_type": "code",
   "execution_count": 17,
   "id": "569847fa-4ab2-4887-910d-03774b8b9524",
   "metadata": {},
   "outputs": [],
   "source": [
    "response.json()"
   ]
  },
  {
   "cell_type": "code",
   "execution_count": null,
   "id": "e0eabb86-2fee-49ef-9793-6fed1c21d834",
   "metadata": {},
   "outputs": [],
   "source": []
  }
 ],
 "metadata": {
  "kernelspec": {
   "display_name": "Python 3 (ipykernel)",
   "language": "python",
   "name": "python3"
  },
  "language_info": {
   "codemirror_mode": {
    "name": "ipython",
    "version": 3
   },
   "file_extension": ".py",
   "mimetype": "text/x-python",
   "name": "python",
   "nbconvert_exporter": "python",
   "pygments_lexer": "ipython3",
   "version": "3.10.4"
  }
 },
 "nbformat": 4,
 "nbformat_minor": 5
}
