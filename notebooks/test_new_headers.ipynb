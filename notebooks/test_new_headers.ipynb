{
 "cells": [
  {
   "cell_type": "code",
   "execution_count": 1,
   "id": "8ce0b1c9-a052-4b37-8357-4a12daac2f57",
   "metadata": {},
   "outputs": [],
   "source": [
    "import json\n",
    "\n",
    "from pathlib import Path\n",
    "\n",
    "\n",
    "from kptncook.api import KptnCookClient"
   ]
  },
  {
   "cell_type": "code",
   "execution_count": 2,
   "id": "14448950-05b2-467e-af7a-a5da5b87644f",
   "metadata": {},
   "outputs": [],
   "source": [
    "client = KptnCookClient()"
   ]
  },
  {
   "cell_type": "code",
   "execution_count": 3,
   "id": "f61f6841-bbdf-4b42-8831-afa15f919945",
   "metadata": {},
   "outputs": [],
   "source": [
    "all_recipes = client.list_today()"
   ]
  },
  {
   "cell_type": "code",
   "execution_count": 4,
   "id": "8bc29ae7-2fbd-4a71-930a-32e00741434a",
   "metadata": {},
   "outputs": [],
   "source": [
    "recipe = all_recipes[0]"
   ]
  },
  {
   "cell_type": "code",
   "execution_count": 5,
   "id": "1c5301d1-c5cf-42d0-ae95-efa9ae947707",
   "metadata": {},
   "outputs": [],
   "source": [
    "fixture_path = Path.cwd().parent / \"tests\" / \"fixtures\" / \"kptncook_example.json\""
   ]
  },
  {
   "cell_type": "code",
   "execution_count": 17,
   "id": "b5f4d2cb-4010-4acf-a995-d406fc119d26",
   "metadata": {},
   "outputs": [],
   "source": [
    "with fixture_path.open(\"w\") as fp:\n",
    "    fp.write(json.dumps(recipe.data))"
   ]
  },
  {
   "cell_type": "code",
   "execution_count": 6,
   "id": "8858b12b-ca3f-446b-9a45-f9b663ad145c",
   "metadata": {},
   "outputs": [],
   "source": [
    "# pprint(recipe.data)"
   ]
  },
  {
   "cell_type": "code",
   "execution_count": null,
   "id": "7cdbb434-80a9-42b7-988f-77ac8251cf37",
   "metadata": {},
   "outputs": [],
   "source": []
  }
 ],
 "metadata": {
  "kernelspec": {
   "display_name": "Python 3 (ipykernel)",
   "language": "python",
   "name": "python3"
  },
  "language_info": {
   "codemirror_mode": {
    "name": "ipython",
    "version": 3
   },
   "file_extension": ".py",
   "mimetype": "text/x-python",
   "name": "python",
   "nbconvert_exporter": "python",
   "pygments_lexer": "ipython3",
   "version": "3.11.0"
  }
 },
 "nbformat": 4,
 "nbformat_minor": 5
}
