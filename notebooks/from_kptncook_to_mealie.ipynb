{
 "cells": [
  {
   "cell_type": "code",
   "execution_count": 1,
   "id": "6e097d22-88c1-45ae-bc41-89479dd91df0",
   "metadata": {},
   "outputs": [],
   "source": [
    "import json\n",
    "\n",
    "from pathlib import Path\n",
    "\n",
    "from kptncook.config import Settings\n",
    "from kptncook.models import Recipe\n",
    "from kptncook.mealie import kptncook_to_mealie\n",
    "\n",
    "from kptncook.mealie import MealieApiClient\n",
    "\n",
    "settings = Settings()"
   ]
  },
  {
   "cell_type": "code",
   "execution_count": 2,
   "id": "f475c657-110d-4150-b977-03a88f6d7ae5",
   "metadata": {},
   "outputs": [],
   "source": [
    "example_path = Path.cwd().parent / \"tests\" / \"fixtures\" / \"kptncook_example.json\"\n",
    "with example_path.open(\"r\") as f:\n",
    "    example = json.load(f)\n",
    "recipe = Recipe.parse_obj(example)"
   ]
  },
  {
   "cell_type": "code",
   "execution_count": 3,
   "id": "1be4cc88-2ce3-476f-9835-411cccd2498f",
   "metadata": {},
   "outputs": [
    {
     "data": {
      "text/plain": [
       "40.0"
      ]
     },
     "execution_count": 3,
     "metadata": {},
     "output_type": "execute_result"
    }
   ],
   "source": [
    "recipe.ingredients[0].quantity"
   ]
  },
  {
   "cell_type": "code",
   "execution_count": 4,
   "id": "11ee6323-999d-4c2a-8125-d8d7d2deed7c",
   "metadata": {},
   "outputs": [
    {
     "data": {
      "text/plain": [
       "RecipeStep(title=LocalizedString(en='All set?', de='Alles parat?', es='¿Todo listo?', fr='Vous avez tout\\xa0?', pt='Tudo pronto?'), image=Image(name='REZ_3062_01.jpg', type='step', url='https://d2am1qai33sroc.cloudfront.net/image/63653b8d4b00007500b0c51d'))"
      ]
     },
     "execution_count": 4,
     "metadata": {},
     "output_type": "execute_result"
    }
   ],
   "source": [
    "recipe.steps[0]"
   ]
  },
  {
   "cell_type": "code",
   "execution_count": 5,
   "id": "191b195c-a56d-4933-9410-333d86099041",
   "metadata": {},
   "outputs": [
    {
     "data": {
      "text/plain": [
       "[Ingredient(quantity=None, measure=None, ingredient=IngredientDetails(typ='basic', localized_title=LocalizedString(en='salt', de='Salz', es='sal', fr='sel', pt='sal'), uncountableTitle=LocalizedString(en='salt', de='Salz', es='sal', fr='sel', pt='sal'), category='SpicesSeasoning')),\n",
       " Ingredient(quantity=None, measure=None, ingredient=IngredientDetails(typ='basic', localized_title=LocalizedString(en='pepper', de='Pfeffer', es='pimienta', fr='poivre', pt='pimenta'), uncountableTitle=LocalizedString(en='pepper', de='Pfeffer', es='pimienta', fr='poivre', pt='pimenta'), category='SpicesSeasoning'))]"
      ]
     },
     "execution_count": 5,
     "metadata": {},
     "output_type": "execute_result"
    }
   ],
   "source": [
    "[i for i in recipe.ingredients if i.quantity is None]"
   ]
  },
  {
   "cell_type": "code",
   "execution_count": 6,
   "id": "4b82f06d-afbb-459b-9bc8-52d2422394a2",
   "metadata": {},
   "outputs": [
    {
     "data": {
      "text/plain": [
       "'g'"
      ]
     },
     "execution_count": 6,
     "metadata": {},
     "output_type": "execute_result"
    }
   ],
   "source": [
    "recipe.ingredients[0].measure"
   ]
  },
  {
   "cell_type": "code",
   "execution_count": 7,
   "id": "78c4d929-3c4a-49f7-ab18-db13c20c3c9e",
   "metadata": {},
   "outputs": [
    {
     "data": {
      "text/plain": [
       "['g', None, 'g', 'EL', None, None, 'g', 'g', 'g', 'Zehe(n)', 'g', None, 'g']"
      ]
     },
     "execution_count": 7,
     "metadata": {},
     "output_type": "execute_result"
    }
   ],
   "source": [
    "[ig.measure for ig in recipe.ingredients]"
   ]
  },
  {
   "cell_type": "code",
   "execution_count": 8,
   "id": "1a2d7fe6-a69b-4150-bb52-5a2354fc2441",
   "metadata": {},
   "outputs": [],
   "source": [
    "mealie_recipe = kptncook_to_mealie(recipe)"
   ]
  },
  {
   "cell_type": "code",
   "execution_count": 9,
   "id": "45dfc3b5-a1ec-4f0e-ac71-b7f98cf53aa0",
   "metadata": {},
   "outputs": [
    {
     "data": {
      "text/plain": [
       "'https://d2am1qai33sroc.cloudfront.net/image/636936644f000036005a5593?kptnkey=6q7QNKy-oIgk-IMuWisJ-jfN7s6'"
      ]
     },
     "execution_count": 9,
     "metadata": {},
     "output_type": "execute_result"
    }
   ],
   "source": [
    "mealie_recipe.image_url"
   ]
  },
  {
   "cell_type": "code",
   "execution_count": 10,
   "id": "c025405f-a5b5-4f23-b08e-973e358610ef",
   "metadata": {},
   "outputs": [],
   "source": [
    "# mealie_recipe.image_url"
   ]
  },
  {
   "cell_type": "code",
   "execution_count": 11,
   "id": "37238f4c-ec4a-4850-a44f-34a205e19984",
   "metadata": {},
   "outputs": [
    {
     "data": {
      "text/plain": [
       "[RecipeIngredient(title='Erbse', note='tiefgefroren', unit=RecipeUnit(name='g', id=None, description='', fraction=True, abbreviation=''), food=RecipeUnit(name='Erbse', id=None, description='', fraction=True, abbreviation=''), disable_amount=True, quantity=20.0),\n",
       " RecipeIngredient(title='Zitrone', note=None, unit=None, food=RecipeUnit(name='Zitrone', id=None, description='', fraction=True, abbreviation=''), disable_amount=True, quantity=0.25),\n",
       " RecipeIngredient(title='Dill', note='frisch', unit=RecipeUnit(name='g', id=None, description='', fraction=True, abbreviation=''), food=RecipeUnit(name='Dill', id=None, description='', fraction=True, abbreviation=''), disable_amount=True, quantity=2.5),\n",
       " RecipeIngredient(title='Olivenöl', note=None, unit=RecipeUnit(name='EL', id=None, description='', fraction=True, abbreviation=''), food=RecipeUnit(name='Olivenöl', id=None, description='', fraction=True, abbreviation=''), disable_amount=True, quantity=0.5),\n",
       " RecipeIngredient(title='Salz', note=None, unit=None, food=RecipeUnit(name='Salz', id=None, description='', fraction=True, abbreviation=''), disable_amount=True, quantity=None),\n",
       " RecipeIngredient(title='Pfeffer', note=None, unit=None, food=RecipeUnit(name='Pfeffer', id=None, description='', fraction=True, abbreviation=''), disable_amount=True, quantity=None),\n",
       " RecipeIngredient(title='Muschelnudel', note='groß', unit=RecipeUnit(name='g', id=None, description='', fraction=True, abbreviation=''), food=RecipeUnit(name='Muschelnudel', id=None, description='', fraction=True, abbreviation=''), disable_amount=True, quantity=40.0),\n",
       " RecipeIngredient(title='Lachsfilet', note='tiefgefroren', unit=RecipeUnit(name='g', id=None, description='', fraction=True, abbreviation=''), food=RecipeUnit(name='Lachsfilet', id=None, description='', fraction=True, abbreviation=''), disable_amount=True, quantity=50.0),\n",
       " RecipeIngredient(title='Schlagsahne', note=None, unit=RecipeUnit(name='g', id=None, description='', fraction=True, abbreviation=''), food=RecipeUnit(name='Schlagsahne', id=None, description='', fraction=True, abbreviation=''), disable_amount=True, quantity=20.0),\n",
       " RecipeIngredient(title='Knoblauch', note=None, unit=RecipeUnit(name='Zehe(n)', id=None, description='', fraction=True, abbreviation=''), food=RecipeUnit(name='Knoblauch', id=None, description='', fraction=True, abbreviation=''), disable_amount=True, quantity=0.25),\n",
       " RecipeIngredient(title='Senf-Dill-Sauce', note=None, unit=RecipeUnit(name='g', id=None, description='', fraction=True, abbreviation=''), food=RecipeUnit(name='Senf-Dill-Sauce', id=None, description='', fraction=True, abbreviation=''), disable_amount=True, quantity=20.0),\n",
       " RecipeIngredient(title='Speisezwiebel', note=None, unit=None, food=RecipeUnit(name='Speisezwiebel', id=None, description='', fraction=True, abbreviation=''), disable_amount=True, quantity=0.5),\n",
       " RecipeIngredient(title='Parmesan', note=None, unit=RecipeUnit(name='g', id=None, description='', fraction=True, abbreviation=''), food=RecipeUnit(name='Parmesan', id=None, description='', fraction=True, abbreviation=''), disable_amount=True, quantity=2.5)]"
      ]
     },
     "execution_count": 11,
     "metadata": {},
     "output_type": "execute_result"
    }
   ],
   "source": [
    "mealie_recipe.recipe_ingredient"
   ]
  },
  {
   "cell_type": "code",
   "execution_count": 12,
   "id": "2e33c866-ca88-42bc-9afa-c0a776395d6c",
   "metadata": {},
   "outputs": [],
   "source": [
    "from pathlib import Path"
   ]
  },
  {
   "cell_type": "code",
   "execution_count": 13,
   "id": "3ca31ebf-9dc6-4fd9-b27d-76be431f37d0",
   "metadata": {},
   "outputs": [
    {
     "data": {
      "text/plain": [
       "'jpg'"
      ]
     },
     "execution_count": 13,
     "metadata": {},
     "output_type": "execute_result"
    }
   ],
   "source": [
    "Path(mealie_recipe.recipe_instructions[0].image.name).suffix.lstrip(\".\")"
   ]
  },
  {
   "cell_type": "code",
   "execution_count": 14,
   "id": "28814bdf-0367-467f-a016-8f6806975937",
   "metadata": {},
   "outputs": [
    {
     "data": {
      "text/plain": [
       "'REZ_3062_01'"
      ]
     },
     "execution_count": 14,
     "metadata": {},
     "output_type": "execute_result"
    }
   ],
   "source": [
    "Path(mealie_recipe.recipe_instructions[0].image.name).stem"
   ]
  },
  {
   "cell_type": "code",
   "execution_count": 15,
   "id": "a5faeb7d-e700-4e59-b243-ba82ba9ea16b",
   "metadata": {},
   "outputs": [
    {
     "data": {
      "text/plain": [
       "['REZ_3062_01', 'jpg']"
      ]
     },
     "execution_count": 15,
     "metadata": {},
     "output_type": "execute_result"
    }
   ],
   "source": [
    "mealie_recipe.recipe_instructions[0].image.name.split(\".\")"
   ]
  },
  {
   "cell_type": "code",
   "execution_count": 16,
   "id": "6bb2601a-36a8-4e2f-8029-deb0be309052",
   "metadata": {},
   "outputs": [
    {
     "data": {
      "text/plain": [
       "['foo']"
      ]
     },
     "execution_count": 16,
     "metadata": {},
     "output_type": "execute_result"
    }
   ],
   "source": [
    "\"foo\".split(\",\")"
   ]
  },
  {
   "cell_type": "code",
   "execution_count": 17,
   "id": "6ae9d522-eb4c-4f6d-8d09-1cc4b15e07dd",
   "metadata": {},
   "outputs": [
    {
     "data": {
      "text/plain": [
       "[RecipeStep(title=None, text='Alles parat?', ingredientReferences=[], image=Image(name='REZ_3062_01.jpg', type='step', url='https://d2am1qai33sroc.cloudfront.net/image/63653b8d4b00007500b0c51d?kptnkey=6q7QNKy-oIgk-IMuWisJ-jfN7s6')),\n",
       " RecipeStep(title=None, text='Lachsfilets bei Bedarf auftauen.', ingredientReferences=[], image=Image(name='REZ_3062_18.jpg', type=None, url='https://d2am1qai33sroc.cloudfront.net/image/635a6d265100003600061cf6?kptnkey=6q7QNKy-oIgk-IMuWisJ-jfN7s6')),\n",
       " RecipeStep(title=None, text='Pasta nach Packungsanleitung zubereiten.', ingredientReferences=[], image=Image(name='REZ_3062_03.jpeg', type='step', url='https://d2am1qai33sroc.cloudfront.net/image/63653b8d4b00007500b0c51e?kptnkey=6q7QNKy-oIgk-IMuWisJ-jfN7s6')),\n",
       " RecipeStep(title=None, text='Währenddessen etwas Olivenöl in einer Pfanne erhitzen und Lachsfilet von beiden Seiten bei mittlerer Hitze ca. 2-3 min. braten. Mit Salz und Pfeffer würzen und zur Seite stellen.', ingredientReferences=[], image=Image(name='REZ_3062_04.jpg', type='step', url='https://d2am1qai33sroc.cloudfront.net/image/63653b8d4b00007500b0c51f?kptnkey=6q7QNKy-oIgk-IMuWisJ-jfN7s6')),\n",
       " RecipeStep(title=None, text='Währenddessen Zwiebel schälen, halbieren und fein würfeln.', ingredientReferences=[], image=Image(name='REZ_3062_18.jpg', type=None, url='https://d2am1qai33sroc.cloudfront.net/image/635a6dbb4d00007700773fed?kptnkey=6q7QNKy-oIgk-IMuWisJ-jfN7s6')),\n",
       " RecipeStep(title=None, text='Knoblauch schälen und reiben.', ingredientReferences=[], image=Image(name='REZ_3062_18.jpg', type=None, url='https://d2am1qai33sroc.cloudfront.net/image/60be43d5420000571f2f704b?kptnkey=6q7QNKy-oIgk-IMuWisJ-jfN7s6')),\n",
       " RecipeStep(title=None, text='Restliches Öl in der gleichen Pfanne erhitzen. Zwiebeln und Knoblauch darin 2 min. braten. Mit Salz und Pfeffer würzen.', ingredientReferences=[], image=Image(name='REZ_3062_07.jpg', type='step', url='https://d2am1qai33sroc.cloudfront.net/image/63653b8d4b00007500b0c520?kptnkey=6q7QNKy-oIgk-IMuWisJ-jfN7s6')),\n",
       " RecipeStep(title=None, text='Backofen auf 200\\u202f°C (Ober- und Unterhitze, empfohlen) vorheizen.', ingredientReferences=[], image=Image(name='REZ_3062_18.jpg', type=None, url='https://d2am1qai33sroc.cloudfront.net/image/617a6f683e0000b801833231?kptnkey=6q7QNKy-oIgk-IMuWisJ-jfN7s6')),\n",
       " RecipeStep(title=None, text='Zitrone gründlich mit heißem Wasser waschen und Schale abreiben.', ingredientReferences=[], image=Image(name='REZ_3062_18.jpg', type=None, url='https://d2am1qai33sroc.cloudfront.net/image/635a6e524b00003700a117ce?kptnkey=6q7QNKy-oIgk-IMuWisJ-jfN7s6')),\n",
       " RecipeStep(title=None, text='Dill waschen, trocken schütteln und fein hacken.', ingredientReferences=[], image=Image(name='REZ_3062_18.jpg', type=None, url='https://d2am1qai33sroc.cloudfront.net/image/619e0c38420000f7025a9318?kptnkey=6q7QNKy-oIgk-IMuWisJ-jfN7s6')),\n",
       " RecipeStep(title=None, text='Lachsfilet mit zwei Gabeln zerpflücken.', ingredientReferences=[], image=Image(name='REZ_3062_11.jpg', type='step', url='https://d2am1qai33sroc.cloudfront.net/image/63653b8d4b00007500b0c521?kptnkey=6q7QNKy-oIgk-IMuWisJ-jfN7s6')),\n",
       " RecipeStep(title=None, text='Parmesan reiben.', ingredientReferences=[], image=Image(name='REZ_3062_18.jpg', type=None, url='https://d2am1qai33sroc.cloudfront.net/image/607710626900008e00e79100?kptnkey=6q7QNKy-oIgk-IMuWisJ-jfN7s6')),\n",
       " RecipeStep(title=None, text='Schlagsahne mit Senf-Dill-Sauce verrühren.', ingredientReferences=[], image=Image(name='REZ_3062_13.jpg', type='step', url='https://d2am1qai33sroc.cloudfront.net/image/63653b8d4b00007500b0c522?kptnkey=6q7QNKy-oIgk-IMuWisJ-jfN7s6')),\n",
       " RecipeStep(title=None, text='In einer Auflaufform Erbsen, Zitronenabrieb, Zwiebelmischung und Dill mit Senf-Sahne-Sauce mischen.', ingredientReferences=[], image=Image(name='REZ_3062_14.jpg', type='step', url='https://d2am1qai33sroc.cloudfront.net/image/63653b8d4b00007500b0c523?kptnkey=6q7QNKy-oIgk-IMuWisJ-jfN7s6')),\n",
       " RecipeStep(title=None, text='Muschelnudeln hinzugeben und dabei jeweils etwas Sauce in die Muschelnudeln füllen.', ingredientReferences=[], image=Image(name='REZ_3062_15.jpg', type='step', url='https://d2am1qai33sroc.cloudfront.net/image/63653b8d4b00007500b0c524?kptnkey=6q7QNKy-oIgk-IMuWisJ-jfN7s6')),\n",
       " RecipeStep(title=None, text='Lachsstücke auf die Muschelnudeln verteilen und mit Parmesan bestreuen. Ca. 10-12 min. im Ofen überbacken.', ingredientReferences=[], image=Image(name='REZ_3062_16.jpg', type='step', url='https://d2am1qai33sroc.cloudfront.net/image/63653b8d4b00007500b0c525?kptnkey=6q7QNKy-oIgk-IMuWisJ-jfN7s6')),\n",
       " RecipeStep(title=None, text='Nudel-Lachs-Auflauf nach Belieben mit mehr Kräutern servieren und genießen.', ingredientReferences=[], image=Image(name='REZ_3062_17.jpg', type='step', url='https://d2am1qai33sroc.cloudfront.net/image/6369362c4c00006f00a1e077?kptnkey=6q7QNKy-oIgk-IMuWisJ-jfN7s6'))]"
      ]
     },
     "execution_count": 17,
     "metadata": {},
     "output_type": "execute_result"
    }
   ],
   "source": [
    "getattr(mealie_recipe, \"recipe_instructions\")"
   ]
  },
  {
   "cell_type": "markdown",
   "id": "b80ee7f6-d952-42b0-b68a-cc63495d9726",
   "metadata": {},
   "source": [
    "# Import via Api"
   ]
  },
  {
   "cell_type": "code",
   "execution_count": 18,
   "id": "6b0ca50c-b2b9-45de-acdf-894fca07f165",
   "metadata": {},
   "outputs": [
    {
     "name": "stdin",
     "output_type": "stream",
     "text": [
      " ········\n"
     ]
    }
   ],
   "source": [
    "client = MealieApiClient(\"http://localhost:9000/api\")\n",
    "client.login(username=\"jochen\")"
   ]
  },
  {
   "cell_type": "code",
   "execution_count": 19,
   "id": "d616df3f-b6d8-436a-bd36-cf78fc724014",
   "metadata": {},
   "outputs": [
    {
     "name": "stdout",
     "output_type": "stream",
     "text": [
      "uberbackene-muschelnudeln-mit-lachs-senf-dill-sauce\n",
      "{\"id\":\"27294a54-1791-4609-a8ce-f2b3353083b7\",\"userId\":\"d1b5874c-4815-43a6-bba9-5c9b3b961810\",\"groupId\":\"5aa776c9-b1af-4713-9e92-e563153a96a0\",\"name\":\"Überbackene Muschelnudeln mit Lachs & Senf-Dill-Sauce\",\"slug\":\"uberbackene-muschelnudeln-mit-lachs-senf-dill-sauce\",\"image\":null,\"recipeYield\":\"1 Portionen\",\"totalTime\":null,\"prepTime\":\"25\",\"cookTime\":\"10\",\"performTime\":null,\"description\":\"\",\"recipeCategory\":[],\"tags\":[{\"id\":\"711c5c31-6a18-4f9e-8c4e-488808dd1518\",\"name\":\"kptncook\",\"slug\":\"kptncook\"}],\"tools\":[],\"rating\":null,\"orgURL\":null,\"recipeIngredient\":[{\"title\":\"Erbse\",\"note\":\"tiefgefroren\",\"unit\":{\"name\":\"g\",\"description\":\"\",\"extras\":{},\"fraction\":true,\"abbreviation\":\"\",\"useAbbreviation\":false,\"id\":\"ce5d051b-b560-4652-8f75-9d803bed9683\",\"createdAt\":\"2022-12-03T10:11:39.902417\",\"updateAt\":\"2022-12-03T10:11:39.902422\"},\"food\":{\"name\":\"Erbse\",\"description\":\"\",\"extras\":{},\"labelId\":null,\"id\":\"b3e084c0-b987-4451-8f68-0f8cd9341484\",\"label\":null,\"createdAt\":\"2022-12-04T09:18:34.898631\",\"updateAt\":\"2022-12-04T09:18:34.898635\"},\"disableAmount\":true,\"quantity\":20.0,\"originalText\":null,\"referenceId\":\"4026bfc2-f835-43c1-badb-698a3a27bf04\"},{\"title\":\"Zitrone\",\"note\":null,\"unit\":null,\"food\":{\"name\":\"Zitrone\",\"description\":\"\",\"extras\":{},\"labelId\":null,\"id\":\"99159cc9-7d81-46f4-8aff-23386d31e8c5\",\"label\":null,\"createdAt\":\"2022-12-04T09:18:34.909626\",\"updateAt\":\"2022-12-04T09:18:34.909629\"},\"disableAmount\":true,\"quantity\":0.25,\"originalText\":null,\"referenceId\":\"cfa38311-59d9-4fe0-98c4-fc649eb1c1e4\"},{\"title\":\"Dill\",\"note\":\"frisch\",\"unit\":{\"name\":\"g\",\"description\":\"\",\"extras\":{},\"fraction\":true,\"abbreviation\":\"\",\"useAbbreviation\":false,\"id\":\"ce5d051b-b560-4652-8f75-9d803bed9683\",\"createdAt\":\"2022-12-03T10:11:39.902417\",\"updateAt\":\"2022-12-03T10:11:39.902422\"},\"food\":{\"name\":\"Dill\",\"description\":\"\",\"extras\":{},\"labelId\":null,\"id\":\"d10db012-0455-4918-b96b-3d661bda4063\",\"label\":null,\"createdAt\":\"2022-12-04T09:18:34.862909\",\"updateAt\":\"2022-12-04T09:18:34.862916\"},\"disableAmount\":true,\"quantity\":2.5,\"originalText\":null,\"referenceId\":\"57925311-3f0b-487d-9465-aaae493ddf81\"},{\"title\":\"Olivenöl\",\"note\":null,\"unit\":{\"name\":\"EL\",\"description\":\"\",\"extras\":{},\"fraction\":true,\"abbreviation\":\"\",\"useAbbreviation\":false,\"id\":\"974f9076-f796-485f-b217-2bba097afd4e\",\"createdAt\":\"2022-12-03T10:11:39.871208\",\"updateAt\":\"2022-12-03T10:11:39.871214\"},\"food\":{\"name\":\"Olivenöl\",\"description\":\"\",\"extras\":{},\"labelId\":null,\"id\":\"9afb017b-14fd-4882-a393-1380086eb86d\",\"label\":null,\"createdAt\":\"2022-12-04T09:18:34.942562\",\"updateAt\":\"2022-12-04T09:18:34.942566\"},\"disableAmount\":true,\"quantity\":0.5,\"originalText\":null,\"referenceId\":\"0b20bcd6-0347-4bbd-8f64-86632bd1f70d\"},{\"title\":\"Salz\",\"note\":null,\"unit\":null,\"food\":{\"name\":\"Salz\",\"description\":\"\",\"extras\":{},\"labelId\":null,\"id\":\"b74dbc02-9ae5-4aa2-b4b6-2d88ccaed45b\",\"label\":null,\"createdAt\":\"2022-12-04T09:18:34.965058\",\"updateAt\":\"2022-12-04T09:18:34.965062\"},\"disableAmount\":true,\"quantity\":null,\"originalText\":null,\"referenceId\":\"7244e06a-3797-440c-8ff7-052f37946f4b\"},{\"title\":\"Pfeffer\",\"note\":null,\"unit\":null,\"food\":{\"name\":\"Pfeffer\",\"description\":\"\",\"extras\":{},\"labelId\":null,\"id\":\"ce09c6a7-3074-4b8d-b758-489178ab48ae\",\"label\":null,\"createdAt\":\"2022-12-04T09:18:34.885350\",\"updateAt\":\"2022-12-04T09:18:34.885354\"},\"disableAmount\":true,\"quantity\":null,\"originalText\":null,\"referenceId\":\"556f407b-58cd-48f1-8baf-542df45d87be\"},{\"title\":\"Muschelnudel\",\"note\":\"groß\",\"unit\":{\"name\":\"g\",\"description\":\"\",\"extras\":{},\"fraction\":true,\"abbreviation\":\"\",\"useAbbreviation\":false,\"id\":\"ce5d051b-b560-4652-8f75-9d803bed9683\",\"createdAt\":\"2022-12-03T10:11:39.902417\",\"updateAt\":\"2022-12-03T10:11:39.902422\"},\"food\":{\"name\":\"Muschelnudel\",\"description\":\"\",\"extras\":{},\"labelId\":null,\"id\":\"6dbafd8e-6e8d-4471-8ede-5f8a03a1c13f\",\"label\":null,\"createdAt\":\"2022-12-04T09:18:34.840097\",\"updateAt\":\"2022-12-04T09:18:34.840100\"},\"disableAmount\":true,\"quantity\":40.0,\"originalText\":null,\"referenceId\":\"01a1e9bf-6816-4af0-b0e7-a9be1440182e\"},{\"title\":\"Lachsfilet\",\"note\":\"tiefgefroren\",\"unit\":{\"name\":\"g\",\"description\":\"\",\"extras\":{},\"fraction\":true,\"abbreviation\":\"\",\"useAbbreviation\":false,\"id\":\"ce5d051b-b560-4652-8f75-9d803bed9683\",\"createdAt\":\"2022-12-03T10:11:39.902417\",\"updateAt\":\"2022-12-03T10:11:39.902422\"},\"food\":{\"name\":\"Lachsfilet\",\"description\":\"\",\"extras\":{},\"labelId\":null,\"id\":\"9207cae2-38b5-44c5-a92f-4692cfd91e79\",\"label\":null,\"createdAt\":\"2022-12-04T09:18:34.920771\",\"updateAt\":\"2022-12-04T09:18:34.920775\"},\"disableAmount\":true,\"quantity\":50.0,\"originalText\":null,\"referenceId\":\"8ae5f5e4-8693-41d9-8a3e-41fd98374ecd\"},{\"title\":\"Schlagsahne\",\"note\":null,\"unit\":{\"name\":\"g\",\"description\":\"\",\"extras\":{},\"fraction\":true,\"abbreviation\":\"\",\"useAbbreviation\":false,\"id\":\"ce5d051b-b560-4652-8f75-9d803bed9683\",\"createdAt\":\"2022-12-03T10:11:39.902417\",\"updateAt\":\"2022-12-03T10:11:39.902422\"},\"food\":{\"name\":\"Schlagsahne\",\"description\":\"\",\"extras\":{},\"labelId\":null,\"id\":\"bc595848-6ecc-47b3-a381-98082bfee849\",\"label\":null,\"createdAt\":\"2022-12-04T09:18:34.954078\",\"updateAt\":\"2022-12-04T09:18:34.954081\"},\"disableAmount\":true,\"quantity\":20.0,\"originalText\":null,\"referenceId\":\"65c173e5-e555-4df7-b393-d4803bfd1de7\"},{\"title\":\"Knoblauch\",\"note\":null,\"unit\":{\"name\":\"Zehe(n)\",\"description\":\"\",\"extras\":{},\"fraction\":true,\"abbreviation\":\"\",\"useAbbreviation\":false,\"id\":\"d7effe77-bbb7-4527-9e75-5b06e60286e1\",\"createdAt\":\"2022-12-03T10:11:39.888240\",\"updateAt\":\"2022-12-03T10:11:39.888245\"},\"food\":{\"name\":\"Knoblauch\",\"description\":\"\",\"extras\":{},\"labelId\":null,\"id\":\"043bd040-948e-4589-bfe1-b82bc125646c\",\"label\":null,\"createdAt\":\"2022-12-04T09:18:34.874481\",\"updateAt\":\"2022-12-04T09:18:34.874485\"},\"disableAmount\":true,\"quantity\":0.25,\"originalText\":null,\"referenceId\":\"b2ab5e35-6456-4954-85f1-82707c2781b7\"},{\"title\":\"Senf-Dill-Sauce\",\"note\":null,\"unit\":{\"name\":\"g\",\"description\":\"\",\"extras\":{},\"fraction\":true,\"abbreviation\":\"\",\"useAbbreviation\":false,\"id\":\"ce5d051b-b560-4652-8f75-9d803bed9683\",\"createdAt\":\"2022-12-03T10:11:39.902417\",\"updateAt\":\"2022-12-03T10:11:39.902422\"},\"food\":{\"name\":\"Senf-Dill-Sauce\",\"description\":\"\",\"extras\":{},\"labelId\":null,\"id\":\"7a5d274e-dc93-448f-b44a-9bdda16493d7\",\"label\":null,\"createdAt\":\"2022-12-04T09:18:34.851022\",\"updateAt\":\"2022-12-04T09:18:34.851026\"},\"disableAmount\":true,\"quantity\":20.0,\"originalText\":null,\"referenceId\":\"44b7d0b9-aa05-4de9-a307-872ae86a5961\"},{\"title\":\"Speisezwiebel\",\"note\":null,\"unit\":null,\"food\":{\"name\":\"Speisezwiebel\",\"description\":\"\",\"extras\":{},\"labelId\":null,\"id\":\"0c5d1541-3d5f-480e-9d67-8363f23e4c85\",\"label\":null,\"createdAt\":\"2022-12-04T09:18:34.828385\",\"updateAt\":\"2022-12-04T09:18:34.828389\"},\"disableAmount\":true,\"quantity\":0.5,\"originalText\":null,\"referenceId\":\"ab975db0-2d74-4d6f-b4c9-59c342794f80\"},{\"title\":\"Parmesan\",\"note\":null,\"unit\":{\"name\":\"g\",\"description\":\"\",\"extras\":{},\"fraction\":true,\"abbreviation\":\"\",\"useAbbreviation\":false,\"id\":\"ce5d051b-b560-4652-8f75-9d803bed9683\",\"createdAt\":\"2022-12-03T10:11:39.902417\",\"updateAt\":\"2022-12-03T10:11:39.902422\"},\"food\":{\"name\":\"Parmesan\",\"description\":\"\",\"extras\":{},\"labelId\":null,\"id\":\"12c8d123-18fd-40eb-81b2-daf1bf82e0b2\",\"label\":null,\"createdAt\":\"2022-12-04T09:18:34.931268\",\"updateAt\":\"2022-12-04T09:18:34.931271\"},\"disableAmount\":true,\"quantity\":2.5,\"originalText\":null,\"referenceId\":\"6a82e13c-6493-4a3c-8de3-4e9cfede7a67\"}],\"dateAdded\":null,\"dateUpdated\":\"2022-12-04T09:18:37.540706\",\"createdAt\":null,\"updateAt\":null,\"lastMade\":null,\"recipeInstructions\":[{\"id\":\"63a81d73-db0c-4a56-9331-11e8e7348157\",\"title\":null,\"text\":\"Alles parat? <img src=\\\"/api/media/recipes/27294a54-1791-4609-a8ce-f2b3353083b7/assets/rez-3062-01.jpg\\\" height=\\\"100%\\\" width=\\\"100%\\\"/>\",\"ingredientReferences\":[]},{\"id\":\"ed23b72f-587e-4a14-bd13-3e73056e8fea\",\"title\":null,\"text\":\"Lachsfilets bei Bedarf auftauen. <img src=\\\"/api/media/recipes/27294a54-1791-4609-a8ce-f2b3353083b7/assets/rez-3062-18.jpg\\\" height=\\\"100%\\\" width=\\\"100%\\\"/>\",\"ingredientReferences\":[]},{\"id\":\"11fda1ad-4486-4806-b5a7-394701e2c66f\",\"title\":null,\"text\":\"Pasta nach Packungsanleitung zubereiten. <img src=\\\"/api/media/recipes/27294a54-1791-4609-a8ce-f2b3353083b7/assets/rez-3062-03.jpeg\\\" height=\\\"100%\\\" width=\\\"100%\\\"/>\",\"ingredientReferences\":[]},{\"id\":\"c77ed78d-5a37-4247-afa5-8fc65045fb51\",\"title\":null,\"text\":\"Währenddessen etwas Olivenöl in einer Pfanne erhitzen und Lachsfilet von beiden Seiten bei mittlerer Hitze ca. 2-3 min. braten. Mit Salz und Pfeffer würzen und zur Seite stellen. <img src=\\\"/api/media/recipes/27294a54-1791-4609-a8ce-f2b3353083b7/assets/rez-3062-04.jpg\\\" height=\\\"100%\\\" width=\\\"100%\\\"/>\",\"ingredientReferences\":[]},{\"id\":\"2ac72483-bc61-4d6c-9e2e-d8ea7b296569\",\"title\":null,\"text\":\"Währenddessen Zwiebel schälen, halbieren und fein würfeln. <img src=\\\"/api/media/recipes/27294a54-1791-4609-a8ce-f2b3353083b7/assets/rez-3062-18.jpg\\\" height=\\\"100%\\\" width=\\\"100%\\\"/>\",\"ingredientReferences\":[]},{\"id\":\"48807083-da37-4cda-b8d0-977116074c06\",\"title\":null,\"text\":\"Knoblauch schälen und reiben. <img src=\\\"/api/media/recipes/27294a54-1791-4609-a8ce-f2b3353083b7/assets/rez-3062-18.jpg\\\" height=\\\"100%\\\" width=\\\"100%\\\"/>\",\"ingredientReferences\":[]},{\"id\":\"008d2b89-a8ee-49ac-9929-649d271ab3c1\",\"title\":null,\"text\":\"Restliches Öl in der gleichen Pfanne erhitzen. Zwiebeln und Knoblauch darin 2 min. braten. Mit Salz und Pfeffer würzen. <img src=\\\"/api/media/recipes/27294a54-1791-4609-a8ce-f2b3353083b7/assets/rez-3062-07.jpg\\\" height=\\\"100%\\\" width=\\\"100%\\\"/>\",\"ingredientReferences\":[]},{\"id\":\"dc533f3d-e22d-4a7f-870f-f15b328a4e93\",\"title\":null,\"text\":\"Backofen auf 200 °C (Ober- und Unterhitze, empfohlen) vorheizen. <img src=\\\"/api/media/recipes/27294a54-1791-4609-a8ce-f2b3353083b7/assets/rez-3062-18.jpg\\\" height=\\\"100%\\\" width=\\\"100%\\\"/>\",\"ingredientReferences\":[]},{\"id\":\"35a0a46b-4df2-4453-a99a-3d11d40284fa\",\"title\":null,\"text\":\"Zitrone gründlich mit heißem Wasser waschen und Schale abreiben. <img src=\\\"/api/media/recipes/27294a54-1791-4609-a8ce-f2b3353083b7/assets/rez-3062-18.jpg\\\" height=\\\"100%\\\" width=\\\"100%\\\"/>\",\"ingredientReferences\":[]},{\"id\":\"c0dd9459-755b-4e64-b0d7-67b098c9dea9\",\"title\":null,\"text\":\"Dill waschen, trocken schütteln und fein hacken. <img src=\\\"/api/media/recipes/27294a54-1791-4609-a8ce-f2b3353083b7/assets/rez-3062-18.jpg\\\" height=\\\"100%\\\" width=\\\"100%\\\"/>\",\"ingredientReferences\":[]},{\"id\":\"a3574cab-f9de-48e6-8418-3d0f52b76c46\",\"title\":null,\"text\":\"Lachsfilet mit zwei Gabeln zerpflücken. <img src=\\\"/api/media/recipes/27294a54-1791-4609-a8ce-f2b3353083b7/assets/rez-3062-11.jpg\\\" height=\\\"100%\\\" width=\\\"100%\\\"/>\",\"ingredientReferences\":[]},{\"id\":\"096b69df-80a3-4e7f-831a-17167509919f\",\"title\":null,\"text\":\"Parmesan reiben. <img src=\\\"/api/media/recipes/27294a54-1791-4609-a8ce-f2b3353083b7/assets/rez-3062-18.jpg\\\" height=\\\"100%\\\" width=\\\"100%\\\"/>\",\"ingredientReferences\":[]},{\"id\":\"d951f0d7-084b-4a86-bbb3-cd943313c739\",\"title\":null,\"text\":\"Schlagsahne mit Senf-Dill-Sauce verrühren. <img src=\\\"/api/media/recipes/27294a54-1791-4609-a8ce-f2b3353083b7/assets/rez-3062-13.jpg\\\" height=\\\"100%\\\" width=\\\"100%\\\"/>\",\"ingredientReferences\":[]},{\"id\":\"0bddc48b-bb73-43bc-818b-e96080dcf621\",\"title\":null,\"text\":\"In einer Auflaufform Erbsen, Zitronenabrieb, Zwiebelmischung und Dill mit Senf-Sahne-Sauce mischen. <img src=\\\"/api/media/recipes/27294a54-1791-4609-a8ce-f2b3353083b7/assets/rez-3062-14.jpg\\\" height=\\\"100%\\\" width=\\\"100%\\\"/>\",\"ingredientReferences\":[]},{\"id\":\"a4cb7baf-3ab7-47d5-8c33-8071c39a62fc\",\"title\":null,\"text\":\"Muschelnudeln hinzugeben und dabei jeweils etwas Sauce in die Muschelnudeln füllen. <img src=\\\"/api/media/recipes/27294a54-1791-4609-a8ce-f2b3353083b7/assets/rez-3062-15.jpg\\\" height=\\\"100%\\\" width=\\\"100%\\\"/>\",\"ingredientReferences\":[]},{\"id\":\"68930ccb-f2c4-4a42-b24e-2f4decdc8644\",\"title\":null,\"text\":\"Lachsstücke auf die Muschelnudeln verteilen und mit Parmesan bestreuen. Ca. 10-12 min. im Ofen überbacken. <img src=\\\"/api/media/recipes/27294a54-1791-4609-a8ce-f2b3353083b7/assets/rez-3062-16.jpg\\\" height=\\\"100%\\\" width=\\\"100%\\\"/>\",\"ingredientReferences\":[]},{\"id\":\"5e302b11-e82f-4fb3-b6bb-4b62948d5601\",\"title\":null,\"text\":\"Nudel-Lachs-Auflauf nach Belieben mit mehr Kräutern servieren und genießen. <img src=\\\"/api/media/recipes/27294a54-1791-4609-a8ce-f2b3353083b7/assets/rez-3062-17.jpg\\\" height=\\\"100%\\\" width=\\\"100%\\\"/>\",\"ingredientReferences\":[]}],\"nutrition\":{\"calories\":\"900\",\"fatContent\":null,\"proteinContent\":null,\"carbohydrateContent\":null,\"fiberContent\":null,\"sodiumContent\":null,\"sugarContent\":null},\"settings\":{\"public\":true,\"showNutrition\":true,\"showAssets\":false,\"landscapeView\":false,\"disableComments\":false,\"disableAmount\":false,\"locked\":false},\"assets\":[{\"name\":\"REZ_3062_01\",\"icon\":\"mdi-file-image\",\"fileName\":\"rez-3062-01.jpg\"},{\"name\":\"REZ_3062_18\",\"icon\":\"mdi-file-image\",\"fileName\":\"rez-3062-18.jpg\"},{\"name\":\"REZ_3062_03\",\"icon\":\"mdi-file-image\",\"fileName\":\"rez-3062-03.jpeg\"},{\"name\":\"REZ_3062_04\",\"icon\":\"mdi-file-image\",\"fileName\":\"rez-3062-04.jpg\"},{\"name\":\"REZ_3062_18\",\"icon\":\"mdi-file-image\",\"fileName\":\"rez-3062-18.jpg\"},{\"name\":\"REZ_3062_18\",\"icon\":\"mdi-file-image\",\"fileName\":\"rez-3062-18.jpg\"},{\"name\":\"REZ_3062_07\",\"icon\":\"mdi-file-image\",\"fileName\":\"rez-3062-07.jpg\"},{\"name\":\"REZ_3062_18\",\"icon\":\"mdi-file-image\",\"fileName\":\"rez-3062-18.jpg\"},{\"name\":\"REZ_3062_18\",\"icon\":\"mdi-file-image\",\"fileName\":\"rez-3062-18.jpg\"},{\"name\":\"REZ_3062_18\",\"icon\":\"mdi-file-image\",\"fileName\":\"rez-3062-18.jpg\"},{\"name\":\"REZ_3062_11\",\"icon\":\"mdi-file-image\",\"fileName\":\"rez-3062-11.jpg\"},{\"name\":\"REZ_3062_18\",\"icon\":\"mdi-file-image\",\"fileName\":\"rez-3062-18.jpg\"},{\"name\":\"REZ_3062_13\",\"icon\":\"mdi-file-image\",\"fileName\":\"rez-3062-13.jpg\"},{\"name\":\"REZ_3062_14\",\"icon\":\"mdi-file-image\",\"fileName\":\"rez-3062-14.jpg\"},{\"name\":\"REZ_3062_15\",\"icon\":\"mdi-file-image\",\"fileName\":\"rez-3062-15.jpg\"},{\"name\":\"REZ_3062_16\",\"icon\":\"mdi-file-image\",\"fileName\":\"rez-3062-16.jpg\"},{\"name\":\"REZ_3062_17\",\"icon\":\"mdi-file-image\",\"fileName\":\"rez-3062-17.jpg\"}],\"notes\":[{\"title\":\"author comment\",\"text\":\"Dieses Rezept lachst jeden an!\"}],\"extras\":{\"kptncook_id\":\"635a68635100007500061cd7\",\"source\":\"kptncook\"},\"isOcrRecipe\":false,\"comments\":[]}\n",
      "CPU times: user 325 ms, sys: 40.9 ms, total: 366 ms\n",
      "Wall time: 3.34 s\n"
     ]
    },
    {
     "data": {
      "text/plain": [
       "Recipe(id=UUID('27294a54-1791-4609-a8ce-f2b3353083b7'), user_id=UUID('d1b5874c-4815-43a6-bba9-5c9b3b961810'), group_id=UUID('5aa776c9-b1af-4713-9e92-e563153a96a0'), name='Überbackene Muschelnudeln mit Lachs & Senf-Dill-Sauce', slug='uberbackene-muschelnudeln-mit-lachs-senf-dill-sauce', image=None, recipe_yield=None, total_time=None, prep_time=None, cook_time=None, perform_time=None, description='', recipe_category=[], tags=[RecipeTag(name='kptncook', slug='kptncook', group_id=None, id=UUID('711c5c31-6a18-4f9e-8c4e-488808dd1518'))], tools=[], rating=None, org_url=None, recipe_ingredient=[], date_added=None, date_updated=None, recipe_instructions=[], nutrition=Nutrition(calories='900', fat_content=None, protein_content=None, carbohydrate_content=None, fiber_content=None, sodium_content=None, sugar_content=None), settings=RecipeSettings(public=True, show_nutrition=True, show_assets=False, landscape_view=False, disable_comments=False, disable_amount=False, locked=False), assets=[RecipeAsset(name='REZ_3062_01', icon='mdi-file-image', file_name=None), RecipeAsset(name='REZ_3062_18', icon='mdi-file-image', file_name=None), RecipeAsset(name='REZ_3062_03', icon='mdi-file-image', file_name=None), RecipeAsset(name='REZ_3062_04', icon='mdi-file-image', file_name=None), RecipeAsset(name='REZ_3062_18', icon='mdi-file-image', file_name=None), RecipeAsset(name='REZ_3062_18', icon='mdi-file-image', file_name=None), RecipeAsset(name='REZ_3062_07', icon='mdi-file-image', file_name=None), RecipeAsset(name='REZ_3062_18', icon='mdi-file-image', file_name=None), RecipeAsset(name='REZ_3062_18', icon='mdi-file-image', file_name=None), RecipeAsset(name='REZ_3062_18', icon='mdi-file-image', file_name=None), RecipeAsset(name='REZ_3062_11', icon='mdi-file-image', file_name=None), RecipeAsset(name='REZ_3062_18', icon='mdi-file-image', file_name=None), RecipeAsset(name='REZ_3062_13', icon='mdi-file-image', file_name=None), RecipeAsset(name='REZ_3062_14', icon='mdi-file-image', file_name=None), RecipeAsset(name='REZ_3062_15', icon='mdi-file-image', file_name=None), RecipeAsset(name='REZ_3062_16', icon='mdi-file-image', file_name=None), RecipeAsset(name='REZ_3062_17', icon='mdi-file-image', file_name=None)], notes=[RecipeNote(title='author comment', text='Dieses Rezept lachst jeden an!')], extras={'kptncook_id': '635a68635100007500061cd7', 'source': 'kptncook'})"
      ]
     },
     "execution_count": 19,
     "metadata": {},
     "output_type": "execute_result"
    }
   ],
   "source": [
    "%%time\n",
    "client.create_recipe(mealie_recipe)"
   ]
  },
  {
   "cell_type": "code",
   "execution_count": 13,
   "id": "285db6dd-44c6-4368-8081-62a68c3d22df",
   "metadata": {},
   "outputs": [
    {
     "data": {
      "text/plain": [
       "[RecipeIngredient(title='Erbse', note=' tiefgefroren', unit=Unit(id=None, name='g', description='', fraction=True, abbreviation=''), food=None, disable_amount=True, quantity=20.0),\n",
       " RecipeIngredient(title='Dill', note=' frisch', unit=Unit(id=None, name='g', description='', fraction=True, abbreviation=''), food=None, disable_amount=True, quantity=2.5),\n",
       " RecipeIngredient(title='Muschelnudel', note=' groß', unit=Unit(id=None, name='g', description='', fraction=True, abbreviation=''), food=None, disable_amount=True, quantity=40.0),\n",
       " RecipeIngredient(title='Lachsfilet', note=' tiefgefroren', unit=Unit(id=None, name='g', description='', fraction=True, abbreviation=''), food=None, disable_amount=True, quantity=50.0)]"
      ]
     },
     "execution_count": 13,
     "metadata": {},
     "output_type": "execute_result"
    }
   ],
   "source": [
    "[ig for ig in mealie_recipe.recipe_ingredient if ig.note is not None]"
   ]
  },
  {
   "cell_type": "code",
   "execution_count": 11,
   "id": "b03fb64f-dab1-498e-95dc-689c5b9ba140",
   "metadata": {},
   "outputs": [
    {
     "data": {
      "text/plain": [
       "[RecipeStep(title=None, text='Alles parat?', ingredientReferences=[], image=Image(name='REZ_3062_01.jpg', type='step', url='https://d2am1qai33sroc.cloudfront.net/image/63653b8d4b00007500b0c51d')),\n",
       " RecipeStep(title=None, text='Lachsfilets bei Bedarf auftauen.', ingredientReferences=[], image=Image(name='REZ_3062_18.jpg', type=None, url='https://d2am1qai33sroc.cloudfront.net/image/635a6d265100003600061cf6')),\n",
       " RecipeStep(title=None, text='Pasta nach Packungsanleitung zubereiten.', ingredientReferences=[], image=Image(name='REZ_3062_03.jpeg', type='step', url='https://d2am1qai33sroc.cloudfront.net/image/63653b8d4b00007500b0c51e')),\n",
       " RecipeStep(title=None, text='Währenddessen etwas Olivenöl in einer Pfanne erhitzen und Lachsfilet von beiden Seiten bei mittlerer Hitze ca. 2-3 min. braten. Mit Salz und Pfeffer würzen und zur Seite stellen.', ingredientReferences=[], image=Image(name='REZ_3062_04.jpg', type='step', url='https://d2am1qai33sroc.cloudfront.net/image/63653b8d4b00007500b0c51f')),\n",
       " RecipeStep(title=None, text='Währenddessen Zwiebel schälen, halbieren und fein würfeln.', ingredientReferences=[], image=Image(name='REZ_3062_18.jpg', type=None, url='https://d2am1qai33sroc.cloudfront.net/image/635a6dbb4d00007700773fed')),\n",
       " RecipeStep(title=None, text='Knoblauch schälen und reiben.', ingredientReferences=[], image=Image(name='REZ_3062_18.jpg', type=None, url='https://d2am1qai33sroc.cloudfront.net/image/60be43d5420000571f2f704b')),\n",
       " RecipeStep(title=None, text='Restliches Öl in der gleichen Pfanne erhitzen. Zwiebeln und Knoblauch darin 2 min. braten. Mit Salz und Pfeffer würzen.', ingredientReferences=[], image=Image(name='REZ_3062_07.jpg', type='step', url='https://d2am1qai33sroc.cloudfront.net/image/63653b8d4b00007500b0c520')),\n",
       " RecipeStep(title=None, text='Backofen auf 200\\u202f°C (Ober- und Unterhitze, empfohlen) vorheizen.', ingredientReferences=[], image=Image(name='REZ_3062_18.jpg', type=None, url='https://d2am1qai33sroc.cloudfront.net/image/617a6f683e0000b801833231')),\n",
       " RecipeStep(title=None, text='Zitrone gründlich mit heißem Wasser waschen und Schale abreiben.', ingredientReferences=[], image=Image(name='REZ_3062_18.jpg', type=None, url='https://d2am1qai33sroc.cloudfront.net/image/635a6e524b00003700a117ce')),\n",
       " RecipeStep(title=None, text='Dill waschen, trocken schütteln und fein hacken.', ingredientReferences=[], image=Image(name='REZ_3062_18.jpg', type=None, url='https://d2am1qai33sroc.cloudfront.net/image/619e0c38420000f7025a9318')),\n",
       " RecipeStep(title=None, text='Lachsfilet mit zwei Gabeln zerpflücken.', ingredientReferences=[], image=Image(name='REZ_3062_11.jpg', type='step', url='https://d2am1qai33sroc.cloudfront.net/image/63653b8d4b00007500b0c521')),\n",
       " RecipeStep(title=None, text='Parmesan reiben.', ingredientReferences=[], image=Image(name='REZ_3062_18.jpg', type=None, url='https://d2am1qai33sroc.cloudfront.net/image/607710626900008e00e79100')),\n",
       " RecipeStep(title=None, text='Schlagsahne mit Senf-Dill-Sauce verrühren.', ingredientReferences=[], image=Image(name='REZ_3062_13.jpg', type='step', url='https://d2am1qai33sroc.cloudfront.net/image/63653b8d4b00007500b0c522')),\n",
       " RecipeStep(title=None, text='In einer Auflaufform Erbsen, Zitronenabrieb, Zwiebelmischung und Dill mit Senf-Sahne-Sauce mischen.', ingredientReferences=[], image=Image(name='REZ_3062_14.jpg', type='step', url='https://d2am1qai33sroc.cloudfront.net/image/63653b8d4b00007500b0c523')),\n",
       " RecipeStep(title=None, text='Muschelnudeln hinzugeben und dabei jeweils etwas Sauce in die Muschelnudeln füllen.', ingredientReferences=[], image=Image(name='REZ_3062_15.jpg', type='step', url='https://d2am1qai33sroc.cloudfront.net/image/63653b8d4b00007500b0c524')),\n",
       " RecipeStep(title=None, text='Lachsstücke auf die Muschelnudeln verteilen und mit Parmesan bestreuen. Ca. 10-12 min. im Ofen überbacken.', ingredientReferences=[], image=Image(name='REZ_3062_16.jpg', type='step', url='https://d2am1qai33sroc.cloudfront.net/image/63653b8d4b00007500b0c525')),\n",
       " RecipeStep(title=None, text='Nudel-Lachs-Auflauf nach Belieben mit mehr Kräutern servieren und genießen.', ingredientReferences=[], image=Image(name='REZ_3062_17.jpg', type='step', url='https://d2am1qai33sroc.cloudfront.net/image/6369362c4c00006f00a1e077'))]"
      ]
     },
     "execution_count": 11,
     "metadata": {},
     "output_type": "execute_result"
    }
   ],
   "source": [
    "mealie_recipe.recipe_instructions"
   ]
  },
  {
   "cell_type": "code",
   "execution_count": 10,
   "id": "64ce518e-c9a2-4a18-9686-2d1f1455f03a",
   "metadata": {},
   "outputs": [
    {
     "data": {
      "text/plain": [
       "[]"
      ]
     },
     "execution_count": 10,
     "metadata": {},
     "output_type": "execute_result"
    }
   ],
   "source": [
    "mealie_recipe.tags"
   ]
  },
  {
   "cell_type": "markdown",
   "id": "3af36c1e-9a74-4c12-95b9-6cab3c09a31f",
   "metadata": {},
   "source": [
    "# Get all KptnCook Recipes"
   ]
  },
  {
   "cell_type": "code",
   "execution_count": 9,
   "id": "11cac9ea-6e6f-496c-b93d-43e601dd426b",
   "metadata": {},
   "outputs": [],
   "source": [
    "recipes = client.get_all_recipes()"
   ]
  },
  {
   "cell_type": "code",
   "execution_count": 10,
   "id": "82aff007-9557-4f10-bfff-f189b68ddb1d",
   "metadata": {},
   "outputs": [],
   "source": [
    "recipes_with_details = []\n",
    "for recipe in recipes:\n",
    "    recipes_with_details.append(client.get_via_slug(recipe.slug))"
   ]
  },
  {
   "cell_type": "code",
   "execution_count": 11,
   "id": "aee4e05f-b37a-48bd-8d8f-874c3f954420",
   "metadata": {},
   "outputs": [
    {
     "data": {
      "text/plain": [
       "{'kptncook_id': '5e5390e2740000cdf1381c64', 'source': 'kptncook'}"
      ]
     },
     "execution_count": 11,
     "metadata": {},
     "output_type": "execute_result"
    }
   ],
   "source": [
    "recipes_with_details[0].extras"
   ]
  },
  {
   "cell_type": "code",
   "execution_count": 12,
   "id": "b8042872-2c5e-484c-a602-947d7b858173",
   "metadata": {},
   "outputs": [],
   "source": [
    "kc_recipes = [r for r in recipes_with_details if r.extras.get(\"source\") == \"kptncook\"]"
   ]
  },
  {
   "cell_type": "code",
   "execution_count": 13,
   "id": "1711ac76-1075-4156-b97d-2504aab6adb9",
   "metadata": {},
   "outputs": [
    {
     "data": {
      "text/plain": [
       "[Recipe(id=UUID('756c3a9c-739d-4598-b96d-7a1f878177a4'), user_id=UUID('899979e8-f240-4d53-8ed3-eaeac21ecd53'), group_id=UUID('71aae446-1aa5-4db7-9782-4021692cd0ce'), name='Chili sin Carne', slug='chili-sin-carne', image=None, recipe_yield=None, total_time=None, prep_time=None, cook_time=None, perform_time=None, description='', recipe_category=[], tags=[RecipeTag(name='kptncook')], tools=[], rating=None, org_url=None, recipe_ingredient=[], date_added=None, date_updated=None, recipe_instructions=[], nutrition=Nutrition(calories='835', fat_content=None, protein_content=None, carbohydrate_content=None, fiber_content=None, sodium_content=None, sugar_content=None), settings=RecipeSettings(public=False, show_nutrition=False, show_assets=False, landscape_view=False, disable_comments=True, disable_amount=True, locked=False), assets=[], notes=[RecipeNote(title='author comment', text='Hot stuff')], extras={'kptncook_id': '5e5390e2740000cdf1381c64', 'source': 'kptncook'})]"
      ]
     },
     "execution_count": 13,
     "metadata": {},
     "output_type": "execute_result"
    }
   ],
   "source": [
    "kc_recipes"
   ]
  },
  {
   "cell_type": "markdown",
   "id": "1c409f2b-687a-4133-9a63-e9df87a19c32",
   "metadata": {},
   "source": [
    "# Sync"
   ]
  },
  {
   "cell_type": "code",
   "execution_count": 14,
   "id": "8d6dd063-b2da-4d1d-af4a-eb0267cba5ba",
   "metadata": {},
   "outputs": [],
   "source": [
    "from kptncook.repositories import RecipeRepository"
   ]
  },
  {
   "cell_type": "code",
   "execution_count": 15,
   "id": "ae9f61df-d88a-4251-a779-8570e87ad532",
   "metadata": {},
   "outputs": [],
   "source": [
    "repo = RecipeRepository(settings.root)"
   ]
  },
  {
   "cell_type": "code",
   "execution_count": 17,
   "id": "67ad0589-3f50-4e47-bbe6-dd75ee995831",
   "metadata": {},
   "outputs": [],
   "source": [
    "api_recipes = []\n",
    "for repo_recipe in repo.list():\n",
    "    recipe = Recipe.parse_obj(repo_recipe.data)\n",
    "    mealie_recipe = kptncook_to_mealie(recipe)\n",
    "    api_recipes.append(mealie_recipe)"
   ]
  },
  {
   "cell_type": "code",
   "execution_count": 18,
   "id": "44d3a2f8-fac7-49bc-9f40-222d58061416",
   "metadata": {},
   "outputs": [
    {
     "data": {
      "text/plain": [
       "6"
      ]
     },
     "execution_count": 18,
     "metadata": {},
     "output_type": "execute_result"
    }
   ],
   "source": [
    "len(api_recipes)"
   ]
  },
  {
   "cell_type": "code",
   "execution_count": 19,
   "id": "4e364ce4-0964-4088-8773-d1017e6fd9e1",
   "metadata": {},
   "outputs": [
    {
     "data": {
      "text/plain": [
       "{'kptncook_id': '5e5390e2740000cdf1381c64', 'source': 'kptncook'}"
      ]
     },
     "execution_count": 19,
     "metadata": {},
     "output_type": "execute_result"
    }
   ],
   "source": [
    "api_recipes[0].extras"
   ]
  },
  {
   "cell_type": "code",
   "execution_count": 22,
   "id": "4c9d7c33-8e5e-4707-9b23-bb3ef7e1b581",
   "metadata": {},
   "outputs": [],
   "source": [
    "ids_in_mealie = {r.extras[\"kptncook_id\"] for r in kc_recipes}\n",
    "ids_from_api = {r.extras[\"kptncook_id\"] for r in api_recipes}"
   ]
  },
  {
   "cell_type": "code",
   "execution_count": 25,
   "id": "cad30b2e-a436-4d59-8e61-a74767cfd5b6",
   "metadata": {},
   "outputs": [],
   "source": [
    "ids_to_add = ids_from_api - ids_in_mealie"
   ]
  },
  {
   "cell_type": "code",
   "execution_count": 26,
   "id": "25aad705-550c-4814-bc02-ee62e1bde64b",
   "metadata": {},
   "outputs": [],
   "source": [
    "recipes_to_add = []\n",
    "for recipe in api_recipes:\n",
    "    if recipe.extras.get(\"kptncook_id\") in ids_to_add:\n",
    "        recipes_to_add.append(recipe)"
   ]
  },
  {
   "cell_type": "code",
   "execution_count": 27,
   "id": "328e6b96-0db1-4d4e-bd26-b484fd612ca7",
   "metadata": {},
   "outputs": [
    {
     "data": {
      "text/plain": [
       "5"
      ]
     },
     "execution_count": 27,
     "metadata": {},
     "output_type": "execute_result"
    }
   ],
   "source": [
    "len(recipes_to_add)"
   ]
  },
  {
   "cell_type": "code",
   "execution_count": 28,
   "id": "aec4fb78-2101-4172-9969-594a7e416b83",
   "metadata": {},
   "outputs": [],
   "source": [
    "for recipe in recipes_to_add:\n",
    "    created = client.create_recipe(recipe)"
   ]
  },
  {
   "cell_type": "code",
   "execution_count": null,
   "id": "a322ad77-938c-4205-b7da-11ca9a4292c9",
   "metadata": {},
   "outputs": [],
   "source": []
  }
 ],
 "metadata": {
  "kernelspec": {
   "display_name": "Python 3 (ipykernel)",
   "language": "python",
   "name": "python3"
  },
  "language_info": {
   "codemirror_mode": {
    "name": "ipython",
    "version": 3
   },
   "file_extension": ".py",
   "mimetype": "text/x-python",
   "name": "python",
   "nbconvert_exporter": "python",
   "pygments_lexer": "ipython3",
   "version": "3.11.0"
  }
 },
 "nbformat": 4,
 "nbformat_minor": 5
}
