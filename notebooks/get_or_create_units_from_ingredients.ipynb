{
 "cells": [
  {
   "cell_type": "code",
   "execution_count": 1,
   "id": "d6b88200-2fa0-4193-93e1-93ef301a9e4e",
   "metadata": {},
   "outputs": [],
   "source": [
    "import json\n",
    "\n",
    "from pathlib import Path\n",
    "\n",
    "from pydantic import parse_obj_as\n",
    "\n",
    "from kptncook.models import Recipe\n",
    "\n",
    "from kptncook.mealie import MealieApiClient, Unit, kptncook_to_mealie"
   ]
  },
  {
   "cell_type": "markdown",
   "id": "47e22cee-e78f-4dbd-b735-530a962c7d8c",
   "metadata": {},
   "source": [
    "# Use Example Recipe"
   ]
  },
  {
   "cell_type": "code",
   "execution_count": 2,
   "id": "1b46e8e7-f250-48f2-baaa-a47455be32b2",
   "metadata": {},
   "outputs": [],
   "source": [
    "example_path = Path.cwd().parent / \"tests\" / \"fixtures\" / \"kptncook_example.json\"\n",
    "with example_path.open(\"r\") as f:\n",
    "    example = json.load(f)\n",
    "recipe = Recipe.parse_obj(example)"
   ]
  },
  {
   "cell_type": "code",
   "execution_count": 3,
   "id": "e63d23e1-c86e-4e8a-988d-fe70eed94521",
   "metadata": {},
   "outputs": [],
   "source": [
    "measures = set(filter(None, [i.measure for i in recipe.ingredients]))"
   ]
  },
  {
   "cell_type": "code",
   "execution_count": 4,
   "id": "aa0b1c71-5e3f-40f1-961e-430414b456fb",
   "metadata": {},
   "outputs": [
    {
     "data": {
      "text/plain": [
       "{'EL', 'Zehe(n)', 'g'}"
      ]
     },
     "execution_count": 4,
     "metadata": {},
     "output_type": "execute_result"
    }
   ],
   "source": [
    "measures"
   ]
  },
  {
   "cell_type": "code",
   "execution_count": 10,
   "id": "0ae61829-6a5c-4af3-9941-40dc893eef2a",
   "metadata": {},
   "outputs": [],
   "source": [
    "class NewClient(MealieApiClient):\n",
    "    def _get_page(self, endpoint_name, page_num, per_page=50):\n",
    "        r = self.get(f\"/{endpoint_name}?page={page_num}&perPage={per_page}\")\n",
    "        r.raise_for_status()\n",
    "        return r.json()\n",
    "\n",
    "    def _get_all_items(self, endpoint_name):\n",
    "        all_items = []\n",
    "        response_data = self._get_page(endpoint_name, 1)\n",
    "        all_items.extend(response_data[\"items\"])\n",
    "\n",
    "        # 1 was already fetched, start page_num at 2 and add 1 to the\n",
    "        # number of total pages, because we start counting at 1 instead of 0\n",
    "        for page_num in range(2, response_data[\"total_pages\"] + 1):\n",
    "            response_data = self._get_page(endpoint_name, page_num)\n",
    "            all_items.extend(response_data[\"items\"])\n",
    "\n",
    "        return all_items\n",
    "\n",
    "    def _create_item(self, endpoint_name, item):\n",
    "        r = self.post(f\"/{endpoint_name}\", data=item.json())\n",
    "        r.raise_for_status()\n",
    "        return r.json()\n",
    "\n",
    "    def _create_unit_name_to_unit_lookup(self, recipe_units):\n",
    "        existing_units = parse_obj_as(set[Unit], self._get_all_items(\"units\"))\n",
    "        units_to_create = recipe_units - existing_units\n",
    "        for unit in units_to_create:\n",
    "            existing_units.add(Unit(**client._create_item(\"units\", unit)))\n",
    "        return {u.name: u for u in existing_units}\n",
    "\n",
    "    def _update_unit_ids(self, recipe):\n",
    "        recipe_units = {\n",
    "            ig.unit for ig in mealie_recipe.recipe_ingredient if ig.unit is not None\n",
    "        }\n",
    "        if len(recipe_units) == 0:\n",
    "            # return early if there's nothing to do\n",
    "            return recipe\n",
    "\n",
    "        name_to_unit_with_id = self._create_unit_name_to_unit_lookup(recipe_units)\n",
    "        for ingredient in recipe.recipe_ingredient:\n",
    "            if ingredient.unit is not None:\n",
    "                ingredient.unit = name_to_unit_with_id[ingredient.unit.name]\n",
    "        return recipe"
   ]
  },
  {
   "cell_type": "code",
   "execution_count": 11,
   "id": "f510cc3f-3780-4a02-9435-2b2c44af6112",
   "metadata": {},
   "outputs": [
    {
     "name": "stdin",
     "output_type": "stream",
     "text": [
      " ········\n"
     ]
    }
   ],
   "source": [
    "client = NewClient(\"http://localhost:9000/api\")\n",
    "client.login(username=\"jochen\")"
   ]
  },
  {
   "cell_type": "code",
   "execution_count": 12,
   "id": "70775596-9500-490e-a4fd-8793a9332388",
   "metadata": {},
   "outputs": [],
   "source": [
    "mealie_recipe = kptncook_to_mealie(recipe)"
   ]
  },
  {
   "cell_type": "code",
   "execution_count": 13,
   "id": "a1c6e366-9b9a-4699-a308-1426f59bc3c6",
   "metadata": {},
   "outputs": [],
   "source": [
    "mealie_recipe = client._update_unit_ids(mealie_recipe)"
   ]
  },
  {
   "cell_type": "code",
   "execution_count": 16,
   "id": "28ed134c-3fd9-441e-a020-13ad2beb4600",
   "metadata": {},
   "outputs": [],
   "source": [
    "foo = [ig.unit for ig in mealie_recipe.recipe_ingredient if ig.unit is not None][0]"
   ]
  },
  {
   "cell_type": "code",
   "execution_count": 17,
   "id": "fcf246bd-2f65-4797-bac3-4335e2a71418",
   "metadata": {},
   "outputs": [
    {
     "data": {
      "text/plain": [
       "-5452980252907157313"
      ]
     },
     "execution_count": 17,
     "metadata": {},
     "output_type": "execute_result"
    }
   ],
   "source": [
    "hash(foo)"
   ]
  },
  {
   "cell_type": "code",
   "execution_count": 19,
   "id": "e924fa02-80af-4b2f-80a6-bb1d66b6cf77",
   "metadata": {},
   "outputs": [
    {
     "data": {
      "text/plain": [
       "-5452980252907157313"
      ]
     },
     "execution_count": 19,
     "metadata": {},
     "output_type": "execute_result"
    }
   ],
   "source": [
    "hash(foo.name)"
   ]
  },
  {
   "cell_type": "code",
   "execution_count": null,
   "id": "be878428-0954-4429-aea7-f6d385fadb8b",
   "metadata": {},
   "outputs": [],
   "source": []
  }
 ],
 "metadata": {
  "kernelspec": {
   "display_name": "Python 3 (ipykernel)",
   "language": "python",
   "name": "python3"
  },
  "language_info": {
   "codemirror_mode": {
    "name": "ipython",
    "version": 3
   },
   "file_extension": ".py",
   "mimetype": "text/x-python",
   "name": "python",
   "nbconvert_exporter": "python",
   "pygments_lexer": "ipython3",
   "version": "3.11.0"
  }
 },
 "nbformat": 4,
 "nbformat_minor": 5
}
