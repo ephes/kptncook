{
 "cells": [
  {
   "cell_type": "code",
   "execution_count": 1,
   "id": "0272802b-0e1a-4d20-950c-e37bca495e14",
   "metadata": {},
   "outputs": [],
   "source": [
    "from getpass import getpass\n",
    "\n",
    "from kptncook.api import KptnCookClient"
   ]
  },
  {
   "cell_type": "code",
   "execution_count": 3,
   "id": "c4c9892a-41ed-4741-b2b3-11a293213c9d",
   "metadata": {},
   "outputs": [],
   "source": [
    "# list_kptncook_today()"
   ]
  },
  {
   "cell_type": "code",
   "execution_count": 5,
   "id": "ea3cbd2c-b50b-4ce3-8e98-7ac58c60de76",
   "metadata": {},
   "outputs": [
    {
     "data": {
      "text/plain": [
       "6"
      ]
     },
     "execution_count": 5,
     "metadata": {},
     "output_type": "execute_result"
    }
   ],
   "source": [
    "from kptncook import Settings\n",
    "\n",
    "settings = Settings()\n",
    "client = KptnCookClient(base_url=settings.kptncook_api_url, api_key=settings.kptncook_api_key,\n",
    "                        access_token=settings.kptncook_access_token)\n",
    "\n",
    "all_recipes = client.list_today()\n",
    "len(all_recipes)"
   ]
  },
  {
   "cell_type": "code",
   "execution_count": 3,
   "id": "4f439dd5-5ee2-4e2e-afc9-b6e284e7d5e2",
   "metadata": {},
   "outputs": [
    {
     "name": "stdin",
     "output_type": "stream",
     "text": [
      " ········\n"
     ]
    }
   ],
   "source": [
    "username = \"jochen-kptncook@wersdoerfer.de\"\n",
    "password = getpass()"
   ]
  },
  {
   "cell_type": "code",
   "execution_count": 6,
   "id": "701f5cd6-7bfb-4545-8e82-c455397709f4",
   "metadata": {},
   "outputs": [
    {
     "data": {
      "text/plain": [
       "'93533997-b764-4fe1-8710-ef6a4a173805'"
      ]
     },
     "execution_count": 6,
     "metadata": {},
     "output_type": "execute_result"
    }
   ],
   "source": [
    "client.get_access_token(username, password)"
   ]
  },
  {
   "cell_type": "code",
   "execution_count": 7,
   "id": "b46ecf8c-a171-4d86-be97-40e894300fc8",
   "metadata": {},
   "outputs": [],
   "source": [
    "from urllib.parse import urljoin"
   ]
  },
  {
   "cell_type": "code",
   "execution_count": 9,
   "id": "a43d62cc-e345-416c-83b4-096c6e411d87",
   "metadata": {},
   "outputs": [
    {
     "name": "stdout",
     "output_type": "stream",
     "text": [
      "https://www.example.com/page/subpage\n"
     ]
    }
   ],
   "source": [
    "base_url = \"https://www.example.com\"\n",
    "relative_path = \"/page/subpage\"\n",
    "\n",
    "complete_url = urljoin(base_url, relative_path)\n",
    "print(complete_url)"
   ]
  },
  {
   "cell_type": "code",
   "execution_count": null,
   "id": "c009e681-c584-4837-824f-8fba3e7a1f9e",
   "metadata": {},
   "outputs": [],
   "source": []
  }
 ],
 "metadata": {
  "kernelspec": {
   "display_name": "Python 3 (ipykernel)",
   "language": "python",
   "name": "python3"
  },
  "language_info": {
   "codemirror_mode": {
    "name": "ipython",
    "version": 3
   },
   "file_extension": ".py",
   "mimetype": "text/x-python",
   "name": "python",
   "nbconvert_exporter": "python",
   "pygments_lexer": "ipython3",
   "version": "3.12.0"
  }
 },
 "nbformat": 4,
 "nbformat_minor": 5
}
